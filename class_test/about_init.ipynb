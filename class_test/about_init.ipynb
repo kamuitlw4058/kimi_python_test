{
 "metadata": {
  "language_info": {
   "codemirror_mode": {
    "name": "ipython",
    "version": 3
   },
   "file_extension": ".py",
   "mimetype": "text/x-python",
   "name": "python",
   "nbconvert_exporter": "python",
   "pygments_lexer": "ipython3",
   "version": "3.7.3-final"
  },
  "orig_nbformat": 2,
  "kernelspec": {
   "name": "python_defaultSpec_1599103677285",
   "display_name": "Python 3.7.3 64-bit ('base': conda)"
  }
 },
 "nbformat": 4,
 "nbformat_minor": 2,
 "cells": [
  {
   "cell_type": "markdown",
   "metadata": {},
   "source": [
    "## 1.通过类内，init 外实现的代码，在类被引入的时候就被调用了\n"
   ]
  },
  {
   "cell_type": "code",
   "execution_count": 13,
   "metadata": {
    "tags": []
   },
   "outputs": [
    {
     "output_type": "stream",
     "name": "stdout",
     "text": "this is not in init:1\n"
    }
   ],
   "source": [
    "class A():\n",
    "    a=1\n",
    "    print(f'this is not in init:{a}')\n",
    "    def __init__(self):\n",
    "        self.b = 2\n",
    "        print(f'this is in init a: {self.a}  b:{self.b}')\n",
    "    def test(self):\n",
    "        self.d =222\n",
    "    \n",
    "    @property                                                      \n",
    "    def price(self): #查看属性值                                           \n",
    "        print ('@property ')"
   ]
  },
  {
   "cell_type": "markdown",
   "metadata": {},
   "source": [
    "## 2.初始化的时候。会自动复制类属性成为实例属性\n",
    "### 实例和类属性\n",
    "* 当实例属性没有赋值的时候。使用会使用同名的类属性。\n",
    "* 当对实例属性进行赋值的时候。使用的是实例属性。\n",
    "### 思考初始化机制。\n",
    "* 优化初始化，在类内初始化。不要放在*init*中\n",
    "* 懒惰实例化，避免在加载类的时候过度耗时。\n"
   ]
  },
  {
   "cell_type": "code",
   "execution_count": 14,
   "metadata": {
    "tags": []
   },
   "outputs": [
    {
     "output_type": "stream",
     "name": "stdout",
     "text": "this is in init a: 1  b:2\nthis is in init a: 10  b:2\na 实例的 a value:30\nb 实例的 a value:20\n"
    }
   ],
   "source": [
    "\n",
    "\n",
    "a = A()\n",
    "A.a = 10\n",
    "\n",
    "b = A()\n",
    "b.a = 20\n",
    "A.a = 30\n",
    "print(f'a 实例的 a value:{a.a}')\n",
    "print(f'b 实例的 a value:{b.a}')\n"
   ]
  },
  {
   "cell_type": "markdown",
   "metadata": {},
   "source": [
    "## 3.因此当类属性赋值时,类实例可以直接使用\n"
   ]
  },
  {
   "cell_type": "code",
   "execution_count": 15,
   "metadata": {
    "tags": []
   },
   "outputs": [
    {
     "output_type": "stream",
     "name": "stdout",
     "text": "555\n"
    }
   ],
   "source": [
    "A.e = 555\n",
    "print(b.e)\n"
   ]
  },
  {
   "cell_type": "markdown",
   "metadata": {},
   "source": []
  }
 ]
}