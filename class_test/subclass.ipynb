{
 "metadata": {
  "language_info": {
   "codemirror_mode": {
    "name": "ipython",
    "version": 3
   },
   "file_extension": ".py",
   "mimetype": "text/x-python",
   "name": "python",
   "nbconvert_exporter": "python",
   "pygments_lexer": "ipython3",
   "version": "3.7.3-final"
  },
  "orig_nbformat": 2,
  "kernelspec": {
   "name": "python_defaultSpec_1599105735458",
   "display_name": "Python 3.7.3 64-bit ('anaconda3': virtualenv)"
  }
 },
 "nbformat": 4,
 "nbformat_minor": 2,
 "cells": [
  {
   "cell_type": "code",
   "execution_count": 2,
   "metadata": {
    "tags": []
   },
   "outputs": [
    {
     "output_type": "stream",
     "name": "stdout",
     "text": "{'name': 'satori', 'age': 16}\n"
    }
   ],
   "source": [
    "class Hook:\n",
    "\n",
    "    def __init_subclass__(cls, **kwargs):\n",
    "        print(kwargs)\n",
    "        for k, v in kwargs.items():\n",
    "            type.__setattr__(cls, k, v)\n",
    "\n",
    "\n",
    "class A(Hook, name=\"satori\", age=16):\n",
    "    pass\n"
   ]
  },
  {
   "cell_type": "code",
   "execution_count": 3,
   "metadata": {
    "tags": []
   },
   "outputs": [
    {
     "output_type": "stream",
     "name": "stdout",
     "text": "satori\n16\n"
    }
   ],
   "source": [
    "print(A.name)  # satori\n",
    "print(A.age)  # 16"
   ]
  },
  {
   "cell_type": "code",
   "execution_count": null,
   "metadata": {},
   "outputs": [],
   "source": []
  }
 ]
}